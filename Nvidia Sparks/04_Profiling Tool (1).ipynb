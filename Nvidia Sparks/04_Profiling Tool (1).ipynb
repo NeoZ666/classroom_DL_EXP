{
 "cells": [
  {
   "cell_type": "markdown",
   "id": "9a71b142-8287-4df2-b5a6-8c6d84a1433a",
   "metadata": {
    "tags": []
   },
   "source": [
    "# Spark RAPIDS Profiling Tool\n",
    "The [Spark RAPIDS profiling tool](https://nvidia.github.io/spark-rapids/docs/spark-profiling-tool.html) assesses a Spark RAPIDS application running on GPU to analyze job characteristics and also makes recommendations to tune the application for further acceleration.\n",
    "\n",
    "The recommendations depend on the cluster configuration metadata file to understand the characteristics of the CPU and GPU resources that are used for the application."
   ]
  },
  {
   "cell_type": "code",
   "execution_count": null,
   "id": "9abad673-9195-4f31-9ea3-50816ff317eb",
   "metadata": {},
   "outputs": [],
   "source": [
    "%%script env bash\n",
    "cd /tmp\n",
    "cat <<EOT > cluster_conf.yaml\n",
    "\n",
    "system:\n",
    "  numCores: 32\n",
    "  memory: 64GiB\n",
    "  numWorkers: 1\n",
    "gpu:\n",
    "  memory: 23028MiB\n",
    "  count: 1\n",
    "  name: A10\n",
    "softwareProperties:\n",
    "  spark.driver.maxResultSize: 7680m\n",
    "  spark.driver.memory: 15360m\n",
    "  spark.executor.cores: '8'\n",
    "  spark.executor.instances: '2'\n",
    "  spark.executor.memory: 47222m\n",
    "    \n",
    "EOT"
   ]
  },
  {
   "cell_type": "code",
   "execution_count": null,
   "id": "4b123ce7-ffd0-4be5-b85a-fb21966e1a1e",
   "metadata": {},
   "outputs": [],
   "source": [
    "%%bash\n",
    "spark_rapids_user_tools onprem profiling --worker_info /tmp/cluster_conf.yaml --eventlogs /tmp/spark-events"
   ]
  }
 ],
 "metadata": {
  "kernelspec": {
   "display_name": "Python 3 (ipykernel)",
   "language": "python",
   "name": "python3"
  },
  "language_info": {
   "codemirror_mode": {
    "name": "ipython",
    "version": 3
   },
   "file_extension": ".py",
   "mimetype": "text/x-python",
   "name": "python",
   "nbconvert_exporter": "python",
   "pygments_lexer": "ipython3",
   "version": "3.11.4"
  }
 },
 "nbformat": 4,
 "nbformat_minor": 5
}

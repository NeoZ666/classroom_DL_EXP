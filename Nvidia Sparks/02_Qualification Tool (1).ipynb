{
 "cells": [
  {
   "cell_type": "markdown",
   "id": "9a71b142-8287-4df2-b5a6-8c6d84a1433a",
   "metadata": {
    "tags": []
   },
   "source": [
    "# Spark RAPIDS Qualification Tool\n",
    "The [Spark RAPIDS qualification tool](https://nvidia.github.io/spark-rapids/docs/spark-qualification-tool.html) helps to assess Spark CPU applications for acceleration on GPU.  To run the qualification tool, you will first install the Spark RAPIDS user tools package."
   ]
  },
  {
   "cell_type": "code",
   "execution_count": null,
   "id": "8da5aed3-5eef-4006-8e3a-6c0669ed4dfb",
   "metadata": {
    "tags": []
   },
   "outputs": [
    {
     "name": "stdout",
     "output_type": "stream",
     "text": [
      "Collecting spark_rapids_user_tools==23.6.2\n",
      "  Using cached spark_rapids_user_tools-23.6.2-156_f44974b-py3-none-any.whl (159 kB)\n",
      "Collecting chevron==0.14.0 (from spark_rapids_user_tools==23.6.2)\n",
      "  Using cached chevron-0.14.0-py3-none-any.whl (11 kB)\n",
      "Collecting fastprogress==1.0.3 (from spark_rapids_user_tools==23.6.2)\n",
      "  Using cached fastprogress-1.0.3-py3-none-any.whl (12 kB)\n",
      "Collecting fastcore==1.5.29 (from spark_rapids_user_tools==23.6.2)\n",
      "  Using cached fastcore-1.5.29-py3-none-any.whl (67 kB)\n",
      "Collecting fire>=0.5.0 (from spark_rapids_user_tools==23.6.2)\n",
      "  Using cached fire-0.6.0.tar.gz (88 kB)\n",
      "  Preparing metadata (setup.py): started\n",
      "  Preparing metadata (setup.py): finished with status 'done'\n",
      "Collecting pandas==1.4.3 (from spark_rapids_user_tools==23.6.2)\n",
      "  Using cached pandas-1.4.3.tar.gz (4.9 MB)\n",
      "  Installing build dependencies: started\n",
      "  Installing build dependencies: finished with status 'done'\n",
      "  Getting requirements to build wheel: started\n",
      "  Getting requirements to build wheel: finished with status 'done'\n",
      "  Preparing metadata (pyproject.toml): started\n",
      "  Preparing metadata (pyproject.toml): finished with status 'done'\n",
      "Requirement already satisfied: pyYAML==6.0 in /usr/local/bin/miniconda/lib/python3.11/site-packages (from spark_rapids_user_tools==23.6.2) (6.0)\n",
      "Collecting tabulate==0.8.10 (from spark_rapids_user_tools==23.6.2)\n",
      "  Using cached tabulate-0.8.10-py3-none-any.whl (29 kB)\n",
      "Collecting importlib-resources==5.10.2 (from spark_rapids_user_tools==23.6.2)\n",
      "  Using cached importlib_resources-5.10.2-py3-none-any.whl (34 kB)\n",
      "Collecting requests==2.31.0 (from spark_rapids_user_tools==23.6.2)\n",
      "  Using cached requests-2.31.0-py3-none-any.whl (62 kB)\n",
      "Requirement already satisfied: packaging==23.0 in /usr/local/bin/miniconda/lib/python3.11/site-packages (from spark_rapids_user_tools==23.6.2) (23.0)\n",
      "Collecting certifi==2022.12.7 (from spark_rapids_user_tools==23.6.2)\n",
      "  Using cached certifi-2022.12.7-py3-none-any.whl (155 kB)\n",
      "Requirement already satisfied: idna==3.4 in /usr/local/bin/miniconda/lib/python3.11/site-packages (from spark_rapids_user_tools==23.6.2) (3.4)\n",
      "Collecting urllib3==1.26.14 (from spark_rapids_user_tools==23.6.2)\n",
      "  Using cached urllib3-1.26.14-py2.py3-none-any.whl (140 kB)\n",
      "Collecting beautifulsoup4==4.11.2 (from spark_rapids_user_tools==23.6.2)\n",
      "  Using cached beautifulsoup4-4.11.2-py3-none-any.whl (129 kB)\n",
      "Collecting pygments==2.15.0 (from spark_rapids_user_tools==23.6.2)\n",
      "  Using cached Pygments-2.15.0-py3-none-any.whl (1.1 MB)\n",
      "Requirement already satisfied: soupsieve>1.2 in /usr/local/bin/miniconda/lib/python3.11/site-packages (from beautifulsoup4==4.11.2->spark_rapids_user_tools==23.6.2) (2.5)\n",
      "Requirement already satisfied: pip in /usr/local/bin/miniconda/lib/python3.11/site-packages (from fastcore==1.5.29->spark_rapids_user_tools==23.6.2) (23.1.2)\n",
      "Requirement already satisfied: python-dateutil>=2.8.1 in /usr/local/bin/miniconda/lib/python3.11/site-packages (from pandas==1.4.3->spark_rapids_user_tools==23.6.2) (2.8.2)\n",
      "Requirement already satisfied: pytz>=2020.1 in /usr/local/bin/miniconda/lib/python3.11/site-packages (from pandas==1.4.3->spark_rapids_user_tools==23.6.2) (2023.3.post1)\n",
      "Requirement already satisfied: numpy>=1.21.0 in /usr/local/bin/miniconda/lib/python3.11/site-packages (from pandas==1.4.3->spark_rapids_user_tools==23.6.2) (1.26.1)\n",
      "Requirement already satisfied: charset-normalizer<4,>=2 in /usr/local/bin/miniconda/lib/python3.11/site-packages (from requests==2.31.0->spark_rapids_user_tools==23.6.2) (2.0.4)\n",
      "Requirement already satisfied: six in /usr/local/bin/miniconda/lib/python3.11/site-packages (from fire>=0.5.0->spark_rapids_user_tools==23.6.2) (1.16.0)\n",
      "Collecting termcolor (from fire>=0.5.0->spark_rapids_user_tools==23.6.2)\n",
      "  Using cached termcolor-2.4.0-py3-none-any.whl (7.7 kB)\n",
      "Building wheels for collected packages: pandas, fire\n",
      "  Building wheel for pandas (pyproject.toml): started\n",
      "  Building wheel for pandas (pyproject.toml): still running...\n"
     ]
    }
   ],
   "source": [
    "%%bash\n",
    "pip install spark_rapids_user_tools==23.6.2"
   ]
  },
  {
   "cell_type": "code",
   "execution_count": null,
   "id": "4b123ce7-ffd0-4be5-b85a-fb21966e1a1e",
   "metadata": {},
   "outputs": [],
   "source": [
    "%%bash\n",
    "spark_rapids_user_tools onprem qualification --eventlogs /tmp/spark-events"
   ]
  }
 ],
 "metadata": {
  "kernelspec": {
   "display_name": "Python 3 (ipykernel)",
   "language": "python",
   "name": "python3"
  },
  "language_info": {
   "codemirror_mode": {
    "name": "ipython",
    "version": 3
   },
   "file_extension": ".py",
   "mimetype": "text/x-python",
   "name": "python",
   "nbconvert_exporter": "python",
   "pygments_lexer": "ipython3",
   "version": "3.11.4"
  }
 },
 "nbformat": 4,
 "nbformat_minor": 5
}

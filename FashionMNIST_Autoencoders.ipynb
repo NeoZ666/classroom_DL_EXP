{
  "metadata": {
    "kernelspec": {
      "language": "python",
      "display_name": "Python 3",
      "name": "python3"
    },
    "language_info": {
      "pygments_lexer": "ipython3",
      "nbconvert_exporter": "python",
      "version": "3.6.4",
      "file_extension": ".py",
      "codemirror_mode": {
        "name": "ipython",
        "version": 3
      },
      "name": "python",
      "mimetype": "text/x-python"
    },
    "kaggle": {
      "accelerator": "none",
      "dataSources": [
        {
          "sourceId": 2286172,
          "sourceType": "datasetVersion",
          "datasetId": 1377494
        }
      ],
      "dockerImageVersionId": 30066,
      "isInternetEnabled": false,
      "language": "python",
      "sourceType": "notebook",
      "isGpuEnabled": false
    },
    "colab": {
      "provenance": [],
      "include_colab_link": true
    }
  },
  "nbformat_minor": 0,
  "nbformat": 4,
  "cells": [
    {
      "cell_type": "markdown",
      "metadata": {
        "id": "view-in-github",
        "colab_type": "text"
      },
      "source": [
        "<a href=\"https://colab.research.google.com/github/NeoZ666/classroom_DL_EXP/blob/main/FashionMNIST_Autoencoders.ipynb\" target=\"_parent\"><img src=\"https://colab.research.google.com/assets/colab-badge.svg\" alt=\"Open In Colab\"/></a>"
      ]
    },
    {
      "cell_type": "markdown",
      "source": [
        "# Introduction to Autoencoders"
      ],
      "metadata": {
        "id": "6Pu36yJJwBCM"
      }
    },
    {
      "cell_type": "markdown",
      "source": [
        "<p align=\"left\">\n",
        "<img src=\"https://miro.medium.com/max/3110/0*uq2_ZipB9TqI9G_k\"/>\n",
        "</p>"
      ],
      "metadata": {
        "id": "spjr-Zlf6In_"
      }
    },
    {
      "cell_type": "markdown",
      "source": [
        "<p>This notebook is aimed at Machine Learning and Deep Learning beginners who are interested in getting a brief understanding of the underlying concepts behind <strong>autoencoders</strong><p>"
      ],
      "metadata": {
        "id": "YryyOQl54Bxv"
      }
    },
    {
      "cell_type": "markdown",
      "source": [
        "# Objectives\n",
        "\n",
        "<ol>\n",
        "<li>To demonstrate how we can train an AUTOENCODER over <b>Fashion MNIST Dataset</b></li>\n",
        "<li>To demostrate how we can use an AUTOENCODER for <strong>Face reconstruction</strong></li>\n",
        "<li>To demonstrate how we can perform <b>Image Denoising</b> via an AUTOENCODER</li>\n",
        "<li>To demonstrate how we can build a <b>Face Recognition</b> using an AUTOENCODER</li>\n",
        "</ol>\n",
        "\n",
        "\n",
        "\n"
      ],
      "metadata": {
        "id": "38y-6R1g4vhP"
      }
    },
    {
      "cell_type": "markdown",
      "source": [
        "## What is an **AUTOENCODER** ?"
      ],
      "metadata": {
        "id": "vpjnvgJe4ddq"
      }
    },
    {
      "cell_type": "markdown",
      "source": [
        "<ul>\n",
        "<li><b><i>Autoencoders</i></b> are a type of neural network that attempts to mimic its input as closely as possible to its output.</li>\n",
        "<li>It has aims to take an input, transform it into a reduced representation called <b>Embedding or Latent Space representation</b>. Then, this embedding is transformed back into the original input.</li>\n",
        "</ul>"
      ],
      "metadata": {
        "id": "pPBovx7K7qBK"
      }
    },
    {
      "cell_type": "markdown",
      "source": [
        "<h3><b>Architecture of Autoencoders</b><h3>\n",
        "<p>An Autoencoder consists of three main components : </p>\n",
        "\n",
        "* Encoder\n",
        "* Embedding\n",
        "* Decoder\n",
        "\n",
        "<b><em>NOTE: The decoder architecture is the mirror image of an encoder</em></b>"
      ],
      "metadata": {
        "id": "e2m4iiCE-RWX"
      }
    },
    {
      "cell_type": "markdown",
      "source": [
        "<div align=\"center\">\n",
        "<img src=\"https://miro.medium.com/max/1784/1*CRP98rEvxpcdo6gJI3tXWA.png\"/>\n",
        "</div>"
      ],
      "metadata": {
        "id": "7jTbN9qoDDM0"
      }
    },
    {
      "cell_type": "markdown",
      "source": [
        "<h3><b>Types of Autoencoders : </b></h3>\n",
        "<p>\n",
        "<ol>\n",
        "<li>Vanilla Autoencoder</li>\n",
        "<li>Sparse Autoencoder</li>\n",
        "<li>Convolutional Autoencoder</li>\n",
        "<li>Denoising Autoencoder</li>\n",
        "<li>Variational Autoencoder</li>\n",
        "</ol>\n",
        "etc...\n",
        "</p>\n"
      ],
      "metadata": {
        "id": "6L-xle7ODgdf"
      }
    },
    {
      "cell_type": "markdown",
      "source": [
        "<div align=\"center\">\n",
        "<img src=\"https://static.packt-cdn.com/products/9781789612011/graphics/06965e3d-46b3-418b-a4c6-a39df696159c.png\"/>\n",
        "</div>"
      ],
      "metadata": {
        "id": "u7yIOOqxDSAq"
      }
    },
    {
      "cell_type": "markdown",
      "source": [
        "## Importing Required Modules"
      ],
      "metadata": {
        "id": "K1A94aRKG7XD"
      }
    },
    {
      "cell_type": "code",
      "source": [
        "import tensorflow as tf\n",
        "from tensorflow.keras import layers, losses\n",
        "from tensorflow.keras.datasets import fashion_mnist\n",
        "from tensorflow.keras.models import Model\n",
        "from tensorflow.keras.utils import plot_model\n",
        "import tensorflow.keras.backend as K\n",
        "from tensorflow.keras.callbacks import EarlyStopping, ReduceLROnPlateau, Callback\n",
        "\n",
        "\n",
        "import numpy as np\n",
        "import pandas as pd\n",
        "import matplotlib.pyplot as plt\n",
        "import cv2\n",
        "import os\n",
        "\n",
        "from sklearn.model_selection import train_test_split\n",
        "from sklearn.metrics import accuracy_score, precision_score, recall_score\n",
        "\n",
        "print(tf.__version__)\n",
        "print(\"ALL MODULES IMPORTED SUCCESSFULLY\")"
      ],
      "metadata": {
        "id": "JvLYFfEfG-1L",
        "outputId": "cd527d27-df02-4d01-ddbc-3ab7d2e1e7f6",
        "execution": {
          "iopub.status.busy": "2021-05-30T14:06:42.972169Z",
          "iopub.execute_input": "2021-05-30T14:06:42.972525Z",
          "iopub.status.idle": "2021-05-30T14:06:48.990843Z",
          "shell.execute_reply.started": "2021-05-30T14:06:42.972447Z",
          "shell.execute_reply": "2021-05-30T14:06:48.989944Z"
        },
        "trusted": true,
        "colab": {
          "base_uri": "https://localhost:8080/"
        }
      },
      "execution_count": 1,
      "outputs": [
        {
          "output_type": "stream",
          "name": "stdout",
          "text": [
            "2.17.0\n",
            "ALL MODULES IMPORTED SUCCESSFULLY\n"
          ]
        }
      ]
    },
    {
      "cell_type": "markdown",
      "source": [
        "### **Objective#1 : Training an AUTOENCODER over Fashion MNIST Dataset**"
      ],
      "metadata": {
        "id": "83hp4PMAGhfs"
      }
    },
    {
      "cell_type": "markdown",
      "source": [
        "#### **Loading Dataset**\n",
        "<ul>\n",
        "<li><p><strong>DESC: </strong>Fashion-MNIST is a dataset of Zalando's article images consisting of a training set of 60,000 examples and a test set of 10,000 examples. Each example is a 28x28 grayscale image, associated with a label from 10 classes.</p></li>\n",
        "\n",
        "<li><p><strong>Why we are dividing the arrays by 255 ??</strong>\n",
        "<ol>\n",
        "<li>To prevent overshooting of activation values.</li>\n",
        "<li>To have a homogenous distribution of weights and biases.</li>\n",
        "</ol></p></li>\n",
        "<ul>"
      ],
      "metadata": {
        "id": "uQRMVVeGZwK9"
      }
    },
    {
      "cell_type": "code",
      "source": [
        "(X_train, y_train), (X_test, y_test) = fashion_mnist.load_data()\n",
        "\n",
        "X_train = X_train.astype('float32')/255.\n",
        "X_test = X_test.astype('float32') /255.\n",
        "\n",
        "print()\n",
        "print(f\"Shape of Train Data: {X_train.shape}\")\n",
        "print(f\"Shape of Test Data: {X_test.shape}\")"
      ],
      "metadata": {
        "id": "463TEwlt6IFj",
        "outputId": "3afcae38-1f88-461c-9700-de6e1a8218fc",
        "execution": {
          "iopub.status.busy": "2021-05-30T14:06:48.993018Z",
          "iopub.execute_input": "2021-05-30T14:06:48.993372Z",
          "iopub.status.idle": "2021-05-30T14:06:50.415327Z",
          "shell.execute_reply.started": "2021-05-30T14:06:48.993337Z",
          "shell.execute_reply": "2021-05-30T14:06:50.414362Z"
        },
        "trusted": true,
        "colab": {
          "base_uri": "https://localhost:8080/"
        }
      },
      "execution_count": 2,
      "outputs": [
        {
          "output_type": "stream",
          "name": "stdout",
          "text": [
            "Downloading data from https://storage.googleapis.com/tensorflow/tf-keras-datasets/train-labels-idx1-ubyte.gz\n",
            "\u001b[1m29515/29515\u001b[0m \u001b[32m━━━━━━━━━━━━━━━━━━━━\u001b[0m\u001b[37m\u001b[0m \u001b[1m0s\u001b[0m 0us/step\n",
            "Downloading data from https://storage.googleapis.com/tensorflow/tf-keras-datasets/train-images-idx3-ubyte.gz\n",
            "\u001b[1m26421880/26421880\u001b[0m \u001b[32m━━━━━━━━━━━━━━━━━━━━\u001b[0m\u001b[37m\u001b[0m \u001b[1m1s\u001b[0m 0us/step\n",
            "Downloading data from https://storage.googleapis.com/tensorflow/tf-keras-datasets/t10k-labels-idx1-ubyte.gz\n",
            "\u001b[1m5148/5148\u001b[0m \u001b[32m━━━━━━━━━━━━━━━━━━━━\u001b[0m\u001b[37m\u001b[0m \u001b[1m0s\u001b[0m 2us/step\n",
            "Downloading data from https://storage.googleapis.com/tensorflow/tf-keras-datasets/t10k-images-idx3-ubyte.gz\n",
            "\u001b[1m4422102/4422102\u001b[0m \u001b[32m━━━━━━━━━━━━━━━━━━━━\u001b[0m\u001b[37m\u001b[0m \u001b[1m0s\u001b[0m 0us/step\n",
            "\n",
            "Shape of Train Data: (60000, 28, 28)\n",
            "Shape of Test Data: (10000, 28, 28)\n"
          ]
        }
      ]
    },
    {
      "cell_type": "markdown",
      "source": [
        "#### **Sample Images**"
      ],
      "metadata": {
        "id": "nWfrgN66hqb7"
      }
    },
    {
      "cell_type": "code",
      "source": [
        "fashionMNIST_classes = {0:\"T-shirt/top\", 1:\"Trouser\",\n",
        "                        2:\"Pullover\", 3:\"Dress\",\n",
        "                        4:\"Coat\", 5:\"Sandal\",\n",
        "                        6:\"Shirt\", 7:\"Sneaker\",\n",
        "                        8:\"Bag\", 9:\"Ankle boot\"}"
      ],
      "metadata": {
        "id": "m4y_fT__jK60",
        "execution": {
          "iopub.status.busy": "2021-05-30T14:06:50.416592Z",
          "iopub.execute_input": "2021-05-30T14:06:50.41694Z",
          "iopub.status.idle": "2021-05-30T14:06:50.422547Z",
          "shell.execute_reply.started": "2021-05-30T14:06:50.41691Z",
          "shell.execute_reply": "2021-05-30T14:06:50.421709Z"
        },
        "trusted": true
      },
      "execution_count": 3,
      "outputs": []
    },
    {
      "cell_type": "code",
      "source": [
        "n = 10\n",
        "plt.figure(figsize = (20, 4))\n",
        "for i in range(n):\n",
        "    plt.subplot(1, n, i+1)\n",
        "    idx = np.random.randint(i, len(X_train))\n",
        "    plt.imshow(X_train[idx])\n",
        "    plt.title(fashionMNIST_classes[y_train[idx]])\n",
        "    plt.gray()\n",
        "    plt.xticks([]); plt.yticks([])\n",
        "plt.show()"
      ],
      "metadata": {
        "id": "pWHf7CA2e260",
        "outputId": "a5368dce-d1c3-49b3-81b5-773148468916",
        "execution": {
          "iopub.status.busy": "2021-05-30T14:06:50.42414Z",
          "iopub.execute_input": "2021-05-30T14:06:50.424759Z",
          "iopub.status.idle": "2021-05-30T14:06:50.788817Z",
          "shell.execute_reply.started": "2021-05-30T14:06:50.424723Z",
          "shell.execute_reply": "2021-05-30T14:06:50.787964Z"
        },
        "trusted": true,
        "colab": {
          "base_uri": "https://localhost:8080/",
          "height": 190
        }
      },
      "execution_count": 4,
      "outputs": [
        {
          "output_type": "display_data",
          "data": {
            "text/plain": [
              "<Figure size 2000x400 with 10 Axes>"
            ],
            "image/png": "[encoded data removed]"
          },
          "metadata": {}
        }
      ]
    },
    {
      "cell_type": "markdown",
      "source": [
        "#### **Building our Autoencoder**"
      ],
      "metadata": {
        "id": "VX4gVjVKj_sm"
      }
    },
    {
      "cell_type": "code",
      "source": [
        "EMBEDDING_DIM = 64\n",
        "\n",
        "class MNIST_AutoEncoder(Model):\n",
        "    def __init__(self, embedding_dim):\n",
        "        super(MNIST_AutoEncoder, self).__init__()\n",
        "        self.embedding_dim = embedding_dim\n",
        "\n",
        "        # Building our Encoder\n",
        "        self.encoder = tf.keras.Sequential([\n",
        "            layers.Input(shape=(28, 28)),\n",
        "            layers.Flatten(),\n",
        "            layers.Dense(self.embedding_dim, activation = \"relu\"),\n",
        "        ])\n",
        "\n",
        "        # Building our Decoder\n",
        "        self.decoder = tf.keras.Sequential([\n",
        "            layers.Input(shape=(self.embedding_dim)),\n",
        "            layers.Dense(784, activation=\"sigmoid\"),\n",
        "            layers.Reshape((28, 28))\n",
        "        ])\n",
        "\n",
        "    def call(self, X):\n",
        "        encoded = self.encoder(X)\n",
        "        decoded = self.decoder(encoded)\n",
        "        return decoded"
      ],
      "metadata": {
        "id": "xVtQTx8JiwZ6",
        "execution": {
          "iopub.status.busy": "2021-05-30T14:06:50.79138Z",
          "iopub.execute_input": "2021-05-30T14:06:50.791729Z",
          "iopub.status.idle": "2021-05-30T14:06:50.798848Z",
          "shell.execute_reply.started": "2021-05-30T14:06:50.791695Z",
          "shell.execute_reply": "2021-05-30T14:06:50.797884Z"
        },
        "trusted": true
      },
      "execution_count": 9,
      "outputs": []
    },
    {
      "cell_type": "code",
      "source": [
        "vanillaAutoencoder = MNIST_AutoEncoder(embedding_dim)\n",
        "vanillaAutoencoder.compile(optimizer='adam', loss=losses.MeanSquaredError())"
      ],
      "metadata": {
        "id": "AxfS_GuzpNaF",
        "execution": {
          "iopub.status.busy": "2021-05-30T14:06:50.800768Z",
          "iopub.execute_input": "2021-05-30T14:06:50.801149Z",
          "iopub.status.idle": "2021-05-30T14:06:53.333541Z",
          "shell.execute_reply.started": "2021-05-30T14:06:50.801102Z",
          "shell.execute_reply": "2021-05-30T14:06:53.332652Z"
        },
        "trusted": true,
        "colab": {
          "base_uri": "https://localhost:8080/",
          "height": 159
        },
        "outputId": "c0dc7cf1-badb-48c8-bf12-da336d47bb24"
      },
      "execution_count": 8,
      "outputs": [
        {
          "output_type": "error",
          "ename": "NameError",
          "evalue": "name 'embedding_dim' is not defined",
          "traceback": [
            "\u001b[0;31m---------------------------------------------------------------------------\u001b[0m",
            "\u001b[0;31mNameError\u001b[0m                                 Traceback (most recent call last)",
            "\u001b[0;32m<ipython-input-8-f46644c8954d>\u001b[0m in \u001b[0;36m<cell line: 1>\u001b[0;34m()\u001b[0m\n\u001b[0;32m----> 1\u001b[0;31m \u001b[0mvanillaAutoencoder\u001b[0m \u001b[0;34m=\u001b[0m \u001b[0mMNIST_AutoEncoder\u001b[0m\u001b[0;34m(\u001b[0m\u001b[0membedding_dim\u001b[0m\u001b[0;34m)\u001b[0m\u001b[0;34m\u001b[0m\u001b[0;34m\u001b[0m\u001b[0m\n\u001b[0m\u001b[1;32m      2\u001b[0m \u001b[0mvanillaAutoencoder\u001b[0m\u001b[0;34m.\u001b[0m\u001b[0mcompile\u001b[0m\u001b[0;34m(\u001b[0m\u001b[0moptimizer\u001b[0m\u001b[0;34m=\u001b[0m\u001b[0;34m'adam'\u001b[0m\u001b[0;34m,\u001b[0m \u001b[0mloss\u001b[0m\u001b[0;34m=\u001b[0m\u001b[0mlosses\u001b[0m\u001b[0;34m.\u001b[0m\u001b[0mMeanSquaredError\u001b[0m\u001b[0;34m(\u001b[0m\u001b[0;34m)\u001b[0m\u001b[0;34m)\u001b[0m\u001b[0;34m\u001b[0m\u001b[0;34m\u001b[0m\u001b[0m\n",
            "\u001b[0;31mNameError\u001b[0m: name 'embedding_dim' is not defined"
          ]
        }
      ]
    },
    {
      "cell_type": "code",
      "source": [
        "vanillaAutoencoder.encoder.summary()"
      ],
      "metadata": {
        "id": "Qso2VHfapz_K",
        "execution": {
          "iopub.status.busy": "2021-05-30T14:06:53.33487Z",
          "iopub.execute_input": "2021-05-30T14:06:53.33528Z",
          "iopub.status.idle": "2021-05-30T14:06:53.343751Z",
          "shell.execute_reply.started": "2021-05-30T14:06:53.335244Z",
          "shell.execute_reply": "2021-05-30T14:06:53.342752Z"
        },
        "trusted": true
      },
      "execution_count": null,
      "outputs": []
    },
    {
      "cell_type": "code",
      "source": [
        "vanillaAutoencoder.decoder.summary()"
      ],
      "metadata": {
        "id": "pBVbzN0WqDTi",
        "execution": {
          "iopub.status.busy": "2021-05-30T14:06:53.345313Z",
          "iopub.execute_input": "2021-05-30T14:06:53.345871Z",
          "iopub.status.idle": "2021-05-30T14:06:53.35455Z",
          "shell.execute_reply.started": "2021-05-30T14:06:53.345836Z",
          "shell.execute_reply": "2021-05-30T14:06:53.353702Z"
        },
        "trusted": true
      },
      "execution_count": null,
      "outputs": []
    },
    {
      "cell_type": "code",
      "source": [
        "mnist_training_history = vanillaAutoencoder.fit(x = X_train, y = X_train,\n",
        "                                       epochs = 10,\n",
        "                                       batch_size = 16,\n",
        "                                       shuffle = True,\n",
        "                                       validation_data = (X_test, X_test))"
      ],
      "metadata": {
        "id": "i4gwTi0vrqOU",
        "execution": {
          "iopub.status.busy": "2021-05-30T14:06:53.356212Z",
          "iopub.execute_input": "2021-05-30T14:06:53.356721Z",
          "iopub.status.idle": "2021-05-30T14:07:49.013213Z",
          "shell.execute_reply.started": "2021-05-30T14:06:53.356685Z",
          "shell.execute_reply": "2021-05-30T14:07:49.012488Z"
        },
        "trusted": true
      },
      "execution_count": null,
      "outputs": []
    },
    {
      "cell_type": "markdown",
      "source": [
        "#### **Results**"
      ],
      "metadata": {
        "id": "JQc_lXPJwhXq"
      }
    },
    {
      "cell_type": "code",
      "source": [
        "# Storing our training and validation losses\n",
        "train_loss = mnist_training_history.history[\"loss\"]\n",
        "val_loss = mnist_training_history.history[\"val_loss\"]\n",
        "epochs = [d for d in range(1,11)]\n",
        "\n",
        "# Code for plotting train and val loss\n",
        "plt.figure(figsize=(18, 10))\n",
        "plt.plot(epochs, train_loss, '-r', label=\"Training\")\n",
        "plt.plot(epochs, val_loss, '--b', label=\"Validation\")\n",
        "plt.title(\"LOSS Curve for Fashion MNIST\")\n",
        "plt.grid(True)\n",
        "plt.xlabel('Epochs'); plt.ylabel(\"LOSS\")\n",
        "plt.legend()\n",
        "plt.xticks([d for d in range(1, 11)])\n",
        "plt.show();"
      ],
      "metadata": {
        "id": "6nPxWWjAtYQU",
        "execution": {
          "iopub.status.busy": "2021-05-30T14:07:49.016778Z",
          "iopub.execute_input": "2021-05-30T14:07:49.017032Z",
          "iopub.status.idle": "2021-05-30T14:07:49.223247Z",
          "shell.execute_reply.started": "2021-05-30T14:07:49.017007Z",
          "shell.execute_reply": "2021-05-30T14:07:49.222588Z"
        },
        "trusted": true
      },
      "execution_count": null,
      "outputs": []
    },
    {
      "cell_type": "code",
      "source": [
        "# collecting the encoded and decoded versions of our test data\n",
        "encoded_imgs = vanillaAutoencoder.encoder(X_test).numpy()\n",
        "decoded_imgs = vanillaAutoencoder.decoder(encoded_imgs).numpy()\n",
        "\n",
        "# Plotting our original and reconstructed images\n",
        "n = 10\n",
        "plt.figure(figsize=(20, 4))\n",
        "for i in range(n):\n",
        "  # To display the original images\n",
        "  ax = plt.subplot(2, n, i + 1)\n",
        "  idx = np.random.randint(i, len(X_test))\n",
        "  plt.imshow(X_test[idx])\n",
        "  plt.title(\"original\")\n",
        "  plt.gray()\n",
        "  ax.get_xaxis().set_visible(False)\n",
        "  ax.get_yaxis().set_visible(False)\n",
        "\n",
        "  # To display reconstructed images\n",
        "  ax = plt.subplot(2, n, i + 1 + n)\n",
        "  plt.imshow(decoded_imgs[idx])\n",
        "  plt.title(\"reconstructed\")\n",
        "  plt.gray()\n",
        "  ax.get_xaxis().set_visible(False)\n",
        "  ax.get_yaxis().set_visible(False)\n",
        "plt.show()"
      ],
      "metadata": {
        "id": "ddPsIsPkup-N",
        "execution": {
          "iopub.status.busy": "2021-05-30T14:07:49.225598Z",
          "iopub.execute_input": "2021-05-30T14:07:49.225969Z",
          "iopub.status.idle": "2021-05-30T14:07:50.111263Z",
          "shell.execute_reply.started": "2021-05-30T14:07:49.225933Z",
          "shell.execute_reply": "2021-05-30T14:07:50.110369Z"
        },
        "trusted": true
      },
      "execution_count": null,
      "outputs": []
    },
    {
      "cell_type": "markdown",
      "source": [
        "### **Objective#2 : Face reconstruction via autoencoder**"
      ],
      "metadata": {
        "id": "GMFLmmqy1_aD"
      }
    },
    {
      "cell_type": "markdown",
      "source": [
        "#### **Loading Data**\n",
        "<ul>\n",
        "<p><strong>DESC: </strong></p>\n",
        "<li>Self-made dataset by ML4e members.</li>\n",
        "<li>It has ~2k images for training and ~1k for validation.</li>\n",
        "<li>Images are of RGB format</li>\n",
        "<li># of classes : 6</li>\n",
        "<li>Images has variations like\n",
        "<ol>\n",
        "<li>Different facial experssions</li>\n",
        "<li>Lighting conditions</li>\n",
        "<li>Face alignments</li>\n",
        "</ol>\n",
        "\n",
        "</li>\n",
        "\n",
        "<ul>"
      ],
      "metadata": {
        "id": "yBTPYItWMpfr"
      }
    },
    {
      "cell_type": "code",
      "source": [
        "VAL_LOC = \"../input/only-faces/Only_faces/Validation\"\n",
        "TRAIN_LOC = \"../input/only-faces/Only_faces/Training\""
      ],
      "metadata": {
        "id": "KFtiqJDzPhiR",
        "execution": {
          "iopub.status.busy": "2021-05-30T14:15:08.671834Z",
          "iopub.execute_input": "2021-05-30T14:15:08.672175Z",
          "iopub.status.idle": "2021-05-30T14:15:08.675471Z",
          "shell.execute_reply.started": "2021-05-30T14:15:08.672144Z",
          "shell.execute_reply": "2021-05-30T14:15:08.67468Z"
        },
        "trusted": true
      },
      "execution_count": null,
      "outputs": []
    },
    {
      "cell_type": "markdown",
      "source": [
        "<p><b>Function for loading train and validation data</b></p>"
      ],
      "metadata": {
        "id": "My7KRm_GF27i"
      }
    },
    {
      "cell_type": "code",
      "source": [
        "def build_data(img_folder_path, normalize = True):\n",
        "    labels = []\n",
        "    images = []\n",
        "    for class_ in os.listdir(img_folder_path):\n",
        "        img_paths = f\"{img_folder_path}/{class_}\"\n",
        "        for img in os.listdir(img_paths):\n",
        "            image = cv2.imread(os.path.join(img_paths, img))\n",
        "            image = cv2.cvtColor(image, cv2.COLOR_BGR2RGB)\n",
        "            image = image.astype('float32')\n",
        "            if normalize:\n",
        "                image = image/255.\n",
        "            image = cv2.resize(image, (128, 128))\n",
        "\n",
        "            images.append(image)\n",
        "            labels.append(class_)\n",
        "    images = np.array(images)\n",
        "    return images, labels"
      ],
      "metadata": {
        "id": "4BJ0w7koQe17",
        "execution": {
          "iopub.status.busy": "2021-05-30T14:15:10.371586Z",
          "iopub.execute_input": "2021-05-30T14:15:10.371946Z",
          "iopub.status.idle": "2021-05-30T14:15:10.378086Z",
          "shell.execute_reply.started": "2021-05-30T14:15:10.371909Z",
          "shell.execute_reply": "2021-05-30T14:15:10.37714Z"
        },
        "trusted": true
      },
      "execution_count": null,
      "outputs": []
    },
    {
      "cell_type": "code",
      "source": [
        "train_imgs, train_labels = build_data(TRAIN_LOC)\n",
        "val_imgs, val_labels = build_data(VAL_LOC)"
      ],
      "metadata": {
        "id": "ihHg0Ojp5NtI",
        "execution": {
          "iopub.status.busy": "2021-05-30T14:15:11.391717Z",
          "iopub.execute_input": "2021-05-30T14:15:11.392042Z",
          "iopub.status.idle": "2021-05-30T14:15:23.858176Z",
          "shell.execute_reply.started": "2021-05-30T14:15:11.392014Z",
          "shell.execute_reply": "2021-05-30T14:15:23.857377Z"
        },
        "trusted": true
      },
      "execution_count": null,
      "outputs": []
    },
    {
      "cell_type": "code",
      "source": [
        "print(f\"Shape of TRAIN DATA : {train_imgs.shape}\")\n",
        "print(f\"Shape of VAL DATA : {val_imgs.shape}\")"
      ],
      "metadata": {
        "id": "KlBn9Ki25sec",
        "execution": {
          "iopub.status.busy": "2021-05-30T14:15:23.859941Z",
          "iopub.execute_input": "2021-05-30T14:15:23.860262Z",
          "iopub.status.idle": "2021-05-30T14:15:23.865715Z",
          "shell.execute_reply.started": "2021-05-30T14:15:23.860229Z",
          "shell.execute_reply": "2021-05-30T14:15:23.864838Z"
        },
        "trusted": true
      },
      "execution_count": null,
      "outputs": []
    },
    {
      "cell_type": "markdown",
      "source": [
        "#### **Sample Images**"
      ],
      "metadata": {
        "id": "xV6_p3UXH60g"
      }
    },
    {
      "cell_type": "code",
      "source": [
        "n = 5\n",
        "plt.figure(figsize = (20, 17))\n",
        "for i in range(n):\n",
        "    plt.subplot(1, n, i+1)\n",
        "    idx = np.random.randint(i, len(train_imgs))\n",
        "    plt.imshow(train_imgs[idx])\n",
        "    plt.title(train_labels[idx])\n",
        "    plt.gray()\n",
        "    plt.xticks([]); plt.yticks([])\n",
        "plt.show()"
      ],
      "metadata": {
        "id": "Sfel4uOB6OJg",
        "execution": {
          "iopub.status.busy": "2021-05-30T14:15:23.867046Z",
          "iopub.execute_input": "2021-05-30T14:15:23.867658Z",
          "iopub.status.idle": "2021-05-30T14:15:24.204079Z",
          "shell.execute_reply.started": "2021-05-30T14:15:23.867605Z",
          "shell.execute_reply": "2021-05-30T14:15:24.201018Z"
        },
        "trusted": true
      },
      "execution_count": null,
      "outputs": []
    },
    {
      "cell_type": "markdown",
      "source": [
        "#### **Building our Autoencoder**"
      ],
      "metadata": {
        "id": "DKvs_v11NLVd"
      }
    },
    {
      "cell_type": "code",
      "source": [
        "class Face_Autoencoder:\n",
        "\n",
        "    def __init__(self,\n",
        "                 input_dim,\n",
        "                 encoder_conv_filters,\n",
        "                 encoder_conv_kernel_size,\n",
        "                 encoder_conv_strides,\n",
        "                 decoder_conv_t_filters,\n",
        "                 decoder_conv_t_kernel_size,\n",
        "                 decoder_conv_t_strides,\n",
        "                 z_dim,\n",
        "                 use_batch_norm = False,\n",
        "                 use_dropout= False\n",
        "                ):\n",
        "\n",
        "        self.input_dim = input_dim\n",
        "        self.encoder_conv_filters = encoder_conv_filters\n",
        "        self.encoder_conv_kernel_size = encoder_conv_kernel_size\n",
        "        self.encoder_conv_strides = encoder_conv_strides\n",
        "\n",
        "        self.decoder_conv_t_filters = decoder_conv_t_filters\n",
        "        self.decoder_conv_t_kernel_size = decoder_conv_t_kernel_size\n",
        "        self.decoder_conv_t_strides = decoder_conv_t_strides\n",
        "        self.z_dim = z_dim\n",
        "\n",
        "        self.use_batch_norm = use_batch_norm\n",
        "        self.use_dropout = use_dropout\n",
        "\n",
        "        self.n_layers_encoder = len(encoder_conv_filters)\n",
        "        self.n_layers_decoder = len(decoder_conv_t_filters)\n",
        "\n",
        "    def build(self):\n",
        "        # Encoder\n",
        "        encoder_input = layers.Input(shape=self.input_dim, name='encoder_input')\n",
        "\n",
        "        x = encoder_input\n",
        "\n",
        "        for i in range(self.n_layers_encoder):\n",
        "\n",
        "            conv_layer = layers.Conv2D(\n",
        "                filters = self.encoder_conv_filters[i],\n",
        "                kernel_size = self.encoder_conv_kernel_size[i],\n",
        "                strides = self.encoder_conv_strides[i],\n",
        "                padding = 'same',\n",
        "                name = 'encoder_conv_' + str(i)\n",
        "                )\n",
        "\n",
        "            x = conv_layer(x)\n",
        "\n",
        "            if self.use_batch_norm:\n",
        "                x = layers.BatchNormalization()(x)\n",
        "\n",
        "            x = layers.Activation(\"relu\")(x)\n",
        "\n",
        "            if self.use_dropout:\n",
        "                x = layers.Dropout(rate = 0.25)(x)\n",
        "\n",
        "\n",
        "        shape_before_flattening = K.int_shape(x)[1:]\n",
        "\n",
        "        x = layers.Flatten()(x)\n",
        "        embedding = layers.Dense(128, name=\"Embedding\")(x)\n",
        "\n",
        "        # DECODER\n",
        "        x = layers.Dense(np.prod(shape_before_flattening))(embedding)\n",
        "        x = layers.Reshape(shape_before_flattening)(x)\n",
        "\n",
        "        for i in range(self.n_layers_decoder):\n",
        "            conv_t_layer = layers.Conv2DTranspose(\n",
        "                filters = self.decoder_conv_t_filters[i],\n",
        "                kernel_size = self.decoder_conv_t_kernel_size[i],\n",
        "                strides = self.decoder_conv_t_strides[i],\n",
        "                padding = 'same',\n",
        "                name = 'decoder_conv_t_' + str(i)\n",
        "                )\n",
        "\n",
        "            x = conv_t_layer(x)\n",
        "\n",
        "            if i < self.n_layers_decoder - 1:\n",
        "                if self.use_batch_norm:\n",
        "                    x = layers.BatchNormalization()(x)\n",
        "                x = layers.Activation('relu')(x)\n",
        "                if self.use_dropout:\n",
        "                    x = layers.Dropout(rate = 0.25)(x)\n",
        "            else:\n",
        "              x = layers.Activation('sigmoid')(x)\n",
        "\n",
        "\n",
        "        decoder_output = x\n",
        "\n",
        "        ae = Model(inputs=encoder_input, outputs=decoder_output, name=\"Face_Autoencoder\")\n",
        "        print(ae.summary())\n",
        "        return ae\n",
        "\n",
        "\n",
        "    def __str__():\n",
        "        return \"FACE AUTOENCODER\""
      ],
      "metadata": {
        "id": "VQB8yIyCHL0F",
        "execution": {
          "iopub.status.busy": "2021-05-30T14:15:24.205217Z",
          "iopub.execute_input": "2021-05-30T14:15:24.205529Z",
          "iopub.status.idle": "2021-05-30T14:15:24.220096Z",
          "shell.execute_reply.started": "2021-05-30T14:15:24.205498Z",
          "shell.execute_reply": "2021-05-30T14:15:24.219268Z"
        },
        "trusted": true
      },
      "execution_count": null,
      "outputs": []
    },
    {
      "cell_type": "code",
      "source": [
        "IMG_SHAPE = (128, 128, 3)\n",
        "fae = Face_Autoencoder(input_dim = IMG_SHAPE,\n",
        "                    encoder_conv_filters=[32,64,64,64],\n",
        "                    encoder_conv_kernel_size=[3,3,3,3],\n",
        "                    encoder_conv_strides=[2,2,2,2],\n",
        "                    decoder_conv_t_filters=[64,64,32,3],\n",
        "                    decoder_conv_t_kernel_size=[3,3,3,3],\n",
        "                    decoder_conv_t_strides=[2,2,2,2],\n",
        "                    z_dim=128,\n",
        "                    use_batch_norm = False,\n",
        "                    use_dropout = False)"
      ],
      "metadata": {
        "id": "E-tM3go3SWDa",
        "execution": {
          "iopub.status.busy": "2021-05-30T14:15:24.222106Z",
          "iopub.execute_input": "2021-05-30T14:15:24.222616Z",
          "iopub.status.idle": "2021-05-30T14:15:24.234997Z",
          "shell.execute_reply.started": "2021-05-30T14:15:24.222578Z",
          "shell.execute_reply": "2021-05-30T14:15:24.234303Z"
        },
        "trusted": true
      },
      "execution_count": null,
      "outputs": []
    },
    {
      "cell_type": "code",
      "source": [
        "face_ae = fae.build()"
      ],
      "metadata": {
        "id": "Lqt7VYHWScyG",
        "execution": {
          "iopub.status.busy": "2021-05-30T14:15:24.236579Z",
          "iopub.execute_input": "2021-05-30T14:15:24.237049Z",
          "iopub.status.idle": "2021-05-30T14:15:24.357507Z",
          "shell.execute_reply.started": "2021-05-30T14:15:24.237013Z",
          "shell.execute_reply": "2021-05-30T14:15:24.356641Z"
        },
        "trusted": true
      },
      "execution_count": null,
      "outputs": []
    },
    {
      "cell_type": "code",
      "source": [
        "plot_model(face_ae, show_shapes = True, show_layer_names=True)"
      ],
      "metadata": {
        "id": "Pj4B7_HOaEK6",
        "execution": {
          "iopub.status.busy": "2021-05-30T14:15:24.358814Z",
          "iopub.execute_input": "2021-05-30T14:15:24.359145Z",
          "iopub.status.idle": "2021-05-30T14:15:25.027492Z",
          "shell.execute_reply.started": "2021-05-30T14:15:24.35911Z",
          "shell.execute_reply": "2021-05-30T14:15:25.026564Z"
        },
        "trusted": true
      },
      "execution_count": null,
      "outputs": []
    },
    {
      "cell_type": "markdown",
      "source": [
        "#### **Training our Autoencoder**"
      ],
      "metadata": {
        "id": "2XLO_IRidVOb"
      }
    },
    {
      "cell_type": "markdown",
      "source": [
        "<h4><b>Callbacks : </b> A callback is a powerful tool to customize the behavior of your model during training, evaluation, or inference.</h4>\n",
        "<h4>Tensorflow has some built-in callbacks which we can access from tf.keras.callback module</h4>\n",
        "<h4>Examples ...</h4>\n",
        "<ul>\n",
        "<li>Wants to visualize your training process : <strong>Tensorboard</strong></li>\n",
        "<li>Wants to schedule your LR while training: <strong>LearningRateSchedular</strong></li>\n",
        "<li>Wants to save best weights in the training process : <strong>ModelCheckpoint</strong></li>\n",
        "<li>Wants if stop the training before the completion of all epochs : <strong>EarlyStopping</strong></li>\n",
        "</ul>\n",
        "<p>Tensorflow also has provided a Class <b>Callback</b> which helps us to create some custom callbacks</p>"
      ],
      "metadata": {
        "id": "0ulGjPUnICDa"
      }
    },
    {
      "cell_type": "code",
      "source": [
        "# Training Hyperparamters\n",
        "LR = 1e-3\n",
        "BS = 16\n",
        "EPOCHS = 20\n",
        "\n",
        "# Defining Callbacks\n",
        "class ShowLearning(Callback):\n",
        "    def on_epoch_end(self, epoch, logs = {}):\n",
        "\n",
        "        original_imgs = [\n",
        "                val_imgs[val_labels.index('Subject1') + 17],\n",
        "                val_imgs[val_labels.index('Subject2')],\n",
        "                val_imgs[val_labels.index('Subject3')],\n",
        "                val_imgs[val_labels.index('Subject4') + 2],\n",
        "                train_imgs[train_labels.index('Subject5') + 7],\n",
        "                val_imgs[val_labels.index('Subject6') + 4]\n",
        "                ]\n",
        "        decoded_imgs = []\n",
        "\n",
        "        for img in original_imgs:\n",
        "            decoded_imgs.append(face_ae.predict(np.array([img]))[0])\n",
        "\n",
        "        n = len(original_imgs)\n",
        "        plt.figure(figsize=(20, 7))\n",
        "        for i in range(1, n + 1):\n",
        "            # Display original\n",
        "            ax = plt.subplot(2, n, i)\n",
        "            plt.imshow(original_imgs[i-1]);\n",
        "            plt.gray()\n",
        "            ax.get_xaxis().set_visible(False)\n",
        "            ax.get_yaxis().set_visible(False)\n",
        "            plt.title(\"Original\")\n",
        "\n",
        "            # Display reconstruction\n",
        "            ax = plt.subplot(2, n, i + n)\n",
        "            plt.imshow(decoded_imgs[i-1]);\n",
        "            plt.gray()\n",
        "            ax.get_xaxis().set_visible(False)\n",
        "            ax.get_yaxis().set_visible(False)\n",
        "            plt.title(\"Reconstructed\")\n",
        "\n",
        "        plt.show();\n",
        "\n",
        "\n",
        "show_learning = ShowLearning()\n",
        "\n",
        "\n",
        "callbacks = [show_learning]\n",
        "\n",
        "# Model Compilation\n",
        "face_ae.compile(loss = 'mse', optimizer = \"adam\")"
      ],
      "metadata": {
        "id": "f18ULeSjc0XB",
        "execution": {
          "iopub.status.busy": "2021-05-30T14:24:45.734325Z",
          "iopub.execute_input": "2021-05-30T14:24:45.734669Z",
          "iopub.status.idle": "2021-05-30T14:24:45.757013Z",
          "shell.execute_reply.started": "2021-05-30T14:24:45.73462Z",
          "shell.execute_reply": "2021-05-30T14:24:45.756211Z"
        },
        "trusted": true
      },
      "execution_count": null,
      "outputs": []
    },
    {
      "cell_type": "code",
      "source": [
        "face_training_history = face_ae.fit(train_imgs, train_imgs,\n",
        "                            epochs = EPOCHS,\n",
        "                            verbose = 1,\n",
        "                            validation_data = (val_imgs, val_imgs),\n",
        "                            batch_size = BS,\n",
        "                            shuffle = True,\n",
        "                            callbacks = callbacks)"
      ],
      "metadata": {
        "id": "G6SSeHCNdH0C",
        "execution": {
          "iopub.status.busy": "2021-05-30T14:24:47.752766Z",
          "iopub.execute_input": "2021-05-30T14:24:47.75311Z",
          "iopub.status.idle": "2021-05-30T14:25:49.941258Z",
          "shell.execute_reply.started": "2021-05-30T14:24:47.753081Z",
          "shell.execute_reply": "2021-05-30T14:25:49.940407Z"
        },
        "trusted": true
      },
      "execution_count": null,
      "outputs": []
    },
    {
      "cell_type": "markdown",
      "source": [
        "#### **Results**"
      ],
      "metadata": {
        "id": "HwVex_Z57nfQ"
      }
    },
    {
      "cell_type": "code",
      "source": [
        "# Storing our training and validation losses\n",
        "train_loss = face_training_history.history[\"loss\"]\n",
        "val_loss = face_training_history.history[\"val_loss\"]\n",
        "epochs = [d for d in range(1,EPOCHS + 1)]\n",
        "\n",
        "# Code for plotting train and val loss\n",
        "plt.figure(figsize=(18, 10))\n",
        "plt.plot(epochs, train_loss, '-r', label=\"Training\")\n",
        "plt.plot(epochs, val_loss, '--b', label=\"Validation\")\n",
        "plt.title(\"LOSS Curve for Face reconstruction\")\n",
        "plt.grid(True)\n",
        "plt.xlabel('Epochs'); plt.ylabel(\"LOSS\")\n",
        "plt.legend()\n",
        "plt.xticks(epochs)\n",
        "plt.show();"
      ],
      "metadata": {
        "id": "o52Cc_yy7sE8",
        "execution": {
          "iopub.status.busy": "2021-05-30T14:26:46.438555Z",
          "iopub.execute_input": "2021-05-30T14:26:46.438911Z",
          "iopub.status.idle": "2021-05-30T14:26:46.674318Z",
          "shell.execute_reply.started": "2021-05-30T14:26:46.43888Z",
          "shell.execute_reply": "2021-05-30T14:26:46.673458Z"
        },
        "trusted": true
      },
      "execution_count": null,
      "outputs": []
    },
    {
      "cell_type": "code",
      "source": [
        "decoded_imgs = face_ae.predict(val_imgs)\n",
        "\n",
        "n = 10\n",
        "plt.figure(figsize=(20, 4))\n",
        "for i in range(n):\n",
        "  # display original\n",
        "  idx = np.random.randint(i, len(val_imgs))\n",
        "  ax = plt.subplot(2, n, i + 1)\n",
        "  plt.imshow(val_imgs[idx])\n",
        "  plt.title(\"original\")\n",
        "  plt.gray()\n",
        "  ax.get_xaxis().set_visible(False)\n",
        "  ax.get_yaxis().set_visible(False)\n",
        "\n",
        "  # display reconstruction\n",
        "  ax = plt.subplot(2, n, i + 1 + n)\n",
        "  plt.imshow(decoded_imgs[idx])\n",
        "  plt.title(\"reconstructed\")\n",
        "  plt.gray()\n",
        "  ax.get_xaxis().set_visible(False)\n",
        "  ax.get_yaxis().set_visible(False)\n",
        "plt.show()"
      ],
      "metadata": {
        "id": "l5Dw2D28kCTd",
        "execution": {
          "iopub.status.busy": "2021-05-30T14:26:57.553569Z",
          "iopub.execute_input": "2021-05-30T14:26:57.553905Z",
          "iopub.status.idle": "2021-05-30T14:26:58.979106Z",
          "shell.execute_reply.started": "2021-05-30T14:26:57.553875Z",
          "shell.execute_reply": "2021-05-30T14:26:58.978254Z"
        },
        "trusted": true
      },
      "execution_count": null,
      "outputs": []
    },
    {
      "cell_type": "markdown",
      "source": [
        "### **Objective#3 : Image Denoising via Autoencoder**"
      ],
      "metadata": {
        "id": "MjNR7Zzh7Azp"
      }
    },
    {
      "cell_type": "markdown",
      "source": [
        "<div align=\"center\"><img src=\"https://miro.medium.com/max/724/1*qKiQ1noZdw8k05-YRIl6hw.jpeg\" width=\"800px\" height=\"400px\"/></div>"
      ],
      "metadata": {
        "id": "7uG_jmVuBdAT"
      }
    },
    {
      "cell_type": "code",
      "source": [
        "noise_factor = 0.3\n",
        "train_noisy_imgs = train_imgs + noise_factor*tf.random.normal(shape=train_imgs.shape)\n",
        "val_noisy_imgs = val_imgs + noise_factor*tf.random.normal(shape=val_imgs.shape)\n",
        "\n",
        "train_noisy_imgs = tf.clip_by_value(train_noisy_imgs, clip_value_min = 0., clip_value_max = 1.)\n",
        "val_noisy_imgs = tf.clip_by_value(val_noisy_imgs, clip_value_min = 0., clip_value_max = 1.)"
      ],
      "metadata": {
        "id": "CQ9Xe2EzsxJo",
        "execution": {
          "iopub.status.busy": "2021-05-30T14:27:24.13348Z",
          "iopub.execute_input": "2021-05-30T14:27:24.133818Z",
          "iopub.status.idle": "2021-05-30T14:27:24.738138Z",
          "shell.execute_reply.started": "2021-05-30T14:27:24.133787Z",
          "shell.execute_reply": "2021-05-30T14:27:24.737215Z"
        },
        "trusted": true
      },
      "execution_count": null,
      "outputs": []
    },
    {
      "cell_type": "code",
      "source": [
        "n = 7\n",
        "plt.figure(figsize=(20, 6))\n",
        "for i in range(1, n + 1):\n",
        "    # Display original\n",
        "    ax = plt.subplot(2, n, i)\n",
        "    idx = np.random.randint(len(train_imgs))\n",
        "    plt.imshow(train_imgs[idx]);\n",
        "    plt.gray()\n",
        "    ax.get_xaxis().set_visible(False)\n",
        "    ax.get_yaxis().set_visible(False)\n",
        "    plt.title(\"Original\")\n",
        "\n",
        "    # Display reconstruction\n",
        "    ax = plt.subplot(2, n, i + n)\n",
        "    plt.imshow(train_noisy_imgs[idx]);\n",
        "    plt.gray()\n",
        "    ax.get_xaxis().set_visible(False)\n",
        "    ax.get_yaxis().set_visible(False)\n",
        "    plt.title(\"Original + Noise\")\n",
        "\n",
        "plt.show();"
      ],
      "metadata": {
        "id": "SP4-LGrk9cfz",
        "execution": {
          "iopub.status.busy": "2021-05-30T14:27:28.072983Z",
          "iopub.execute_input": "2021-05-30T14:27:28.073308Z",
          "iopub.status.idle": "2021-05-30T14:27:29.088411Z",
          "shell.execute_reply.started": "2021-05-30T14:27:28.073277Z",
          "shell.execute_reply": "2021-05-30T14:27:29.087495Z"
        },
        "trusted": true
      },
      "execution_count": null,
      "outputs": []
    },
    {
      "cell_type": "code",
      "source": [
        "IMG_SHAPE = (128, 128, 3)\n",
        "fae = Face_Autoencoder(input_dim = IMG_SHAPE,\n",
        "                    encoder_conv_filters=[32,64,64,64],\n",
        "                    encoder_conv_kernel_size=[3,3,3,3],\n",
        "                    encoder_conv_strides=[2,2,2,2],\n",
        "                    decoder_conv_t_filters=[64,64,32,3],\n",
        "                    decoder_conv_t_kernel_size=[3,3,3,3],\n",
        "                    decoder_conv_t_strides=[2,2,2,2],\n",
        "                    z_dim=128,\n",
        "                    use_batch_norm = False,\n",
        "                    use_dropout = False)\n",
        "\n",
        "denoisy_fae = fae.build()"
      ],
      "metadata": {
        "id": "PEKFZNy8-K7a",
        "execution": {
          "iopub.status.busy": "2021-05-30T14:27:29.332958Z",
          "iopub.execute_input": "2021-05-30T14:27:29.333279Z",
          "iopub.status.idle": "2021-05-30T14:27:29.450334Z",
          "shell.execute_reply.started": "2021-05-30T14:27:29.33325Z",
          "shell.execute_reply": "2021-05-30T14:27:29.449661Z"
        },
        "trusted": true
      },
      "execution_count": null,
      "outputs": []
    },
    {
      "cell_type": "code",
      "source": [
        "# Training Hyperparamters\n",
        "LR = 1e-3\n",
        "BS = 16\n",
        "EPOCHS = 10\n",
        "\n",
        "# Model Compilation\n",
        "denoisy_fae.compile(loss = 'mse', optimizer = \"adam\")"
      ],
      "metadata": {
        "id": "-STELdDz_3EF",
        "execution": {
          "iopub.status.busy": "2021-05-30T14:27:34.782693Z",
          "iopub.execute_input": "2021-05-30T14:27:34.783009Z",
          "iopub.status.idle": "2021-05-30T14:27:34.797234Z",
          "shell.execute_reply.started": "2021-05-30T14:27:34.78298Z",
          "shell.execute_reply": "2021-05-30T14:27:34.796472Z"
        },
        "trusted": true
      },
      "execution_count": null,
      "outputs": []
    },
    {
      "cell_type": "code",
      "source": [
        "denoisy_training_history = denoisy_fae.fit(train_noisy_imgs, train_imgs,\n",
        "                            epochs = EPOCHS,\n",
        "                            batch_size = BS,\n",
        "                            shuffle = True,\n",
        "                            validation_data = (val_noisy_imgs, val_imgs))"
      ],
      "metadata": {
        "id": "trgZ6xttAVwJ",
        "execution": {
          "iopub.status.busy": "2021-05-30T14:27:38.872584Z",
          "iopub.execute_input": "2021-05-30T14:27:38.872921Z",
          "iopub.status.idle": "2021-05-30T14:27:57.750365Z",
          "shell.execute_reply.started": "2021-05-30T14:27:38.872884Z",
          "shell.execute_reply": "2021-05-30T14:27:57.74966Z"
        },
        "trusted": true
      },
      "execution_count": null,
      "outputs": []
    },
    {
      "cell_type": "markdown",
      "source": [
        "#### **Results**"
      ],
      "metadata": {
        "id": "V6gNHEAq9Pl6"
      }
    },
    {
      "cell_type": "code",
      "source": [
        "# Storing our training and validation losses\n",
        "train_loss = denoisy_training_history.history[\"loss\"]\n",
        "val_loss = denoisy_training_history.history[\"val_loss\"]\n",
        "epochs = [d for d in range(1,EPOCHS + 1)]\n",
        "\n",
        "# Code for plotting train and val loss\n",
        "plt.figure(figsize=(18, 10))\n",
        "plt.plot(epochs, train_loss, '-r', label=\"Training\")\n",
        "plt.plot(epochs, val_loss, '--b', label=\"Validation\")\n",
        "plt.title(\"LOSS Curve for Face reconstruction\")\n",
        "plt.grid(True)\n",
        "plt.xlabel('Epochs'); plt.ylabel(\"LOSS\")\n",
        "plt.legend()\n",
        "plt.xticks(epochs)\n",
        "plt.show();"
      ],
      "metadata": {
        "id": "j1V73Zcg9TUF",
        "execution": {
          "iopub.status.busy": "2021-05-30T14:30:22.233588Z",
          "iopub.execute_input": "2021-05-30T14:30:22.233964Z",
          "iopub.status.idle": "2021-05-30T14:30:22.432078Z",
          "shell.execute_reply.started": "2021-05-30T14:30:22.233933Z",
          "shell.execute_reply": "2021-05-30T14:30:22.431351Z"
        },
        "trusted": true
      },
      "execution_count": null,
      "outputs": []
    },
    {
      "cell_type": "code",
      "source": [
        "decoded_imgs = denoisy_fae.predict(val_noisy_imgs)\n",
        "\n",
        "n = 10\n",
        "plt.figure(figsize=(20, 4))\n",
        "for i in range(n):\n",
        "\n",
        "    # display original + noise\n",
        "    ax = plt.subplot(2, n, i + 1)\n",
        "    plt.title(\"original + noise\")\n",
        "    idx = np.random.randint(i, len(val_imgs))\n",
        "    plt.imshow(tf.squeeze(val_noisy_imgs[idx]))\n",
        "    plt.gray()\n",
        "    ax.get_xaxis().set_visible(False)\n",
        "    ax.get_yaxis().set_visible(False)\n",
        "\n",
        "    # display reconstruction\n",
        "    bx = plt.subplot(2, n, i + n + 1)\n",
        "    plt.title(\"reconstructed\")\n",
        "    plt.imshow(tf.squeeze(decoded_imgs[idx]))\n",
        "    plt.gray()\n",
        "    bx.get_xaxis().set_visible(False)\n",
        "    bx.get_yaxis().set_visible(False)\n",
        "plt.show()"
      ],
      "metadata": {
        "id": "uBcSzV7AA22E",
        "execution": {
          "iopub.status.busy": "2021-05-30T14:30:27.993442Z",
          "iopub.execute_input": "2021-05-30T14:30:27.993765Z",
          "iopub.status.idle": "2021-05-30T14:30:29.322063Z",
          "shell.execute_reply.started": "2021-05-30T14:30:27.993734Z",
          "shell.execute_reply": "2021-05-30T14:30:29.321254Z"
        },
        "trusted": true
      },
      "execution_count": null,
      "outputs": []
    },
    {
      "cell_type": "markdown",
      "source": [
        "### **Objective#4 : Face identification via Autoencoder**"
      ],
      "metadata": {
        "id": "Dm_5C4OwRswJ"
      }
    },
    {
      "cell_type": "markdown",
      "source": [
        "<h4><b>What is Face Recognition</b></h4>\n",
        "<p>A facial recognition system is a technology capable of matching a human face from a digital image or a video frame against a database of faces, typically employed to authenticate users through ID verification services, works by pinpointing and measuring facial features from a given image.</p>"
      ],
      "metadata": {
        "id": "Mcj21qhOjXjz"
      }
    },
    {
      "cell_type": "markdown",
      "source": [
        "<div align=\"center\">\n",
        "<img src=\"https://www.learnopencv.com/wp-content/uploads/2019/04/face_verification_vs_recognition.jpg\"/>\n",
        "</div>"
      ],
      "metadata": {
        "id": "pvaZWI-8SNvT"
      }
    },
    {
      "cell_type": "markdown",
      "source": [
        "<h4><em><strong>Face Verification is</strong> 1 : 1 MATCHING</em></h4>\n",
        "<h5><em>where as</em></h5>\n",
        "    <h4><em><strong>Face Identification is</strong> 1 : N MATCHING</em></h4>"
      ],
      "metadata": {
        "id": "O22ykq5KopL3"
      }
    },
    {
      "cell_type": "markdown",
      "source": [
        "## Building our Encoder"
      ],
      "metadata": {
        "id": "9QVG6PPEk6Hg"
      }
    },
    {
      "cell_type": "markdown",
      "source": [
        "<p>We are iterating over the layers, so as to get the index of our embedding layer</p>\n"
      ],
      "metadata": {
        "id": "oJoKAlkBlBYJ"
      }
    },
    {
      "cell_type": "code",
      "source": [
        "for i, layer in enumerate(face_ae.layers):\n",
        "    print(i, layer.name)"
      ],
      "metadata": {
        "id": "i3dGUIVRBSmk",
        "execution": {
          "iopub.status.busy": "2021-05-30T14:30:45.234186Z",
          "iopub.execute_input": "2021-05-30T14:30:45.23451Z",
          "iopub.status.idle": "2021-05-30T14:30:45.245984Z",
          "shell.execute_reply.started": "2021-05-30T14:30:45.234481Z",
          "shell.execute_reply": "2021-05-30T14:30:45.244965Z"
        },
        "trusted": true
      },
      "execution_count": null,
      "outputs": []
    },
    {
      "cell_type": "markdown",
      "source": [
        "<p>We are using <strong>Model</Strong> class from tf.keras.model submodule to build our Encoder. It requires the input layer and the output layer. We can also pass a name to our model by using the <em><b>name</b></em> parameter.</p>"
      ],
      "metadata": {
        "id": "jDMzxCY7loaE"
      }
    },
    {
      "cell_type": "code",
      "source": [
        "encoder = Model(face_ae.input, face_ae.layers[10].output, name=\"Encoder\")\n",
        "encoder.summary()"
      ],
      "metadata": {
        "id": "JUjgxykLScXW",
        "execution": {
          "iopub.status.busy": "2021-05-30T14:30:47.013076Z",
          "iopub.execute_input": "2021-05-30T14:30:47.013388Z",
          "iopub.status.idle": "2021-05-30T14:30:47.027744Z",
          "shell.execute_reply.started": "2021-05-30T14:30:47.013359Z",
          "shell.execute_reply": "2021-05-30T14:30:47.026236Z"
        },
        "trusted": true
      },
      "execution_count": null,
      "outputs": []
    },
    {
      "cell_type": "markdown",
      "source": [
        "<p>Here, I am considering 3 classes from my training set</p>"
      ],
      "metadata": {
        "id": "PME7RJE8mR9M"
      }
    },
    {
      "cell_type": "code",
      "source": [
        "sub1_encs = []\n",
        "sub2_encs = []\n",
        "sub3_encs = []\n",
        "\n",
        "def preprocess_img(image):\n",
        "    image = cv2.cvtColor(image, cv2.COLOR_BGR2RGB)\n",
        "    image = image.astype('float32')\n",
        "    image = image/255.\n",
        "    image = cv2.resize(image, (128, 128))\n",
        "    return image\n",
        "\n",
        "\n",
        "for sub_img in os.listdir(\"../input/only-faces/Only_faces/Training/Subject1\")[:10]:\n",
        "    image = cv2.imread(os.path.join(\"../input/only-faces/Only_faces/Training/Subject1\", sub_img))\n",
        "    image = preprocess_img(image)\n",
        "    enc_img = encoder.predict(np.array([image]))\n",
        "    sub1_encs.append(enc_img)\n",
        "\n",
        "for sub_img in os.listdir(\"../input/only-faces/Only_faces/Training/Subject2\")[:10]:\n",
        "    image = cv2.imread(os.path.join(\"../input/only-faces/Only_faces/Training/Subject2\", sub_img))\n",
        "    image = preprocess_img(image)\n",
        "    enc_img = encoder.predict(np.array([image]))\n",
        "    sub2_encs.append(enc_img)\n",
        "\n",
        "for sub_img in os.listdir(\"../input/only-faces/Only_faces/Training/Subject3\")[:10]:\n",
        "    image = cv2.imread(os.path.join(\"../input/only-faces/Only_faces/Training/Subject3\", sub_img))\n",
        "    image = preprocess_img(image)\n",
        "    enc_img = encoder.predict(np.array([image]))\n",
        "    sub3_encs.append(enc_img)\n",
        "\n",
        "sub1_encs = np.array(sub1_encs)\n",
        "sub2_encs = np.array(sub2_encs)\n",
        "sub3_encs = np.array(sub3_encs)"
      ],
      "metadata": {
        "id": "yBaMo8lvSrVP",
        "execution": {
          "iopub.status.busy": "2021-05-30T14:35:31.174107Z",
          "iopub.execute_input": "2021-05-30T14:35:31.174591Z",
          "iopub.status.idle": "2021-05-30T14:35:32.146362Z",
          "shell.execute_reply.started": "2021-05-30T14:35:31.174552Z",
          "shell.execute_reply": "2021-05-30T14:35:32.145529Z"
        },
        "trusted": true
      },
      "execution_count": null,
      "outputs": []
    },
    {
      "cell_type": "code",
      "source": [
        "# Creating base encodings for our subjects\n",
        "\n",
        "sub1_enc = np.mean(sub1_encs, axis = 0)\n",
        "sub2_enc = np.mean(sub2_encs, axis = 0)\n",
        "sub3_enc = np.mean(sub3_encs, axis = 0)"
      ],
      "metadata": {
        "id": "GNy3RUVlVrZ4",
        "execution": {
          "iopub.status.busy": "2021-05-30T14:35:39.403214Z",
          "iopub.execute_input": "2021-05-30T14:35:39.403527Z",
          "iopub.status.idle": "2021-05-30T14:35:39.409827Z",
          "shell.execute_reply.started": "2021-05-30T14:35:39.403498Z",
          "shell.execute_reply": "2021-05-30T14:35:39.408859Z"
        },
        "trusted": true
      },
      "execution_count": null,
      "outputs": []
    },
    {
      "cell_type": "code",
      "source": [
        "rand_idx = np.random.randint(len(val_imgs))\n",
        "\n",
        "\n",
        "rand_sub1_img = cv2.imread(os.path.join(\"../input/only-faces/Only_faces/Validation/Subject1\",\n",
        "                                        os.listdir(\"../input/only-faces/Only_faces/Validation/Subject1\")[np.random.randint(len(os.listdir(\"../input/only-faces/Only_faces/Validation/Subject1\")))]))\n",
        "\n",
        "rand_sub2_img = cv2.imread(os.path.join(\"../input/only-faces/Only_faces/Validation/Subject2\",\n",
        "                                        os.listdir(\"../input/only-faces/Only_faces/Validation/Subject2\")[np.random.randint(len(os.listdir(\"../input/only-faces/Only_faces/Validation/Subject2\")))]))\n",
        "\n",
        "rand_sub3_img = cv2.imread(os.path.join(\"../input/only-faces/Only_faces/Validation/Subject3\",\n",
        "                                        os.listdir(\"../input/only-faces/Only_faces/Validation/Subject3\")[np.random.randint(len(os.listdir(\"../input/only-faces/Only_faces/Validation/Subject3\")))]))\n",
        "\n",
        "rand_sub1_img = preprocess_img(rand_sub1_img)\n",
        "rand_sub2_img = preprocess_img(rand_sub2_img)\n",
        "rand_sub3_img = preprocess_img(rand_sub3_img)\n",
        "\n",
        "rand_sub1_enc = np.mean(encoder.predict(np.array([rand_sub1_img])), axis = 0)\n",
        "rand_sub2_enc = np.mean(encoder.predict(np.array([rand_sub2_img])), axis = 0)\n",
        "rand_sub3_enc = np.mean(encoder.predict(np.array([rand_sub3_img])), axis = 0)"
      ],
      "metadata": {
        "id": "HzrMlbQcY6DZ",
        "execution": {
          "iopub.status.busy": "2021-05-30T14:33:35.573923Z",
          "iopub.execute_input": "2021-05-30T14:33:35.574251Z",
          "iopub.status.idle": "2021-05-30T14:33:35.687386Z",
          "shell.execute_reply.started": "2021-05-30T14:33:35.574222Z",
          "shell.execute_reply": "2021-05-30T14:33:35.686662Z"
        },
        "trusted": true
      },
      "execution_count": null,
      "outputs": []
    },
    {
      "cell_type": "markdown",
      "source": [
        "We will scipy's euclidean distance function to calculate the closeness between two images"
      ],
      "metadata": {
        "id": "lkeZEyxMiCYP"
      }
    },
    {
      "cell_type": "code",
      "source": [
        "from scipy.spatial.distance import euclidean\n",
        "\n",
        "def euclidean_dist(base_encs, unknown_enc):\n",
        "    distances = []\n",
        "    for base_enc in base_encs:\n",
        "        distances.append(euclidean(base_enc, unknown_enc))\n",
        "    distances  = np.array(distances)\n",
        "    return distances"
      ],
      "metadata": {
        "id": "uTB8cdl5bang",
        "execution": {
          "iopub.status.busy": "2021-05-30T14:34:00.873912Z",
          "iopub.execute_input": "2021-05-30T14:34:00.874233Z",
          "iopub.status.idle": "2021-05-30T14:34:00.879173Z",
          "shell.execute_reply.started": "2021-05-30T14:34:00.874204Z",
          "shell.execute_reply": "2021-05-30T14:34:00.878175Z"
        },
        "trusted": true
      },
      "execution_count": null,
      "outputs": []
    },
    {
      "cell_type": "code",
      "source": [
        "\"\"\"\n",
        "base-encs : DB containing image encodings of subjects\n",
        "rand_encs : Random subjects\n",
        "rand_encs : Encodings of random subjects\n",
        "\n",
        "\"\"\"\n",
        "base_encs = [sub1_enc, sub2_enc, sub3_enc]\n",
        "rand_imgs = [rand_sub1_img, rand_sub2_img, rand_sub3_img]\n",
        "rand_encs = [rand_sub1_enc, rand_sub2_enc, rand_sub3_enc]\n",
        "\n",
        "distances = []\n",
        "for rand_enc in rand_encs:\n",
        "    distances.append(euclidean_dist(base_encs, rand_enc))\n",
        "subjects = [\"SUBJECT1\", \"SUBJECT2\", \"SUBJECT3\"]\n",
        "distances"
      ],
      "metadata": {
        "id": "_fV-gsWCcMnd",
        "execution": {
          "iopub.status.busy": "2021-05-30T14:35:48.578407Z",
          "iopub.execute_input": "2021-05-30T14:35:48.578742Z",
          "iopub.status.idle": "2021-05-30T14:35:48.588598Z",
          "shell.execute_reply.started": "2021-05-30T14:35:48.578713Z",
          "shell.execute_reply": "2021-05-30T14:35:48.587714Z"
        },
        "trusted": true
      },
      "execution_count": null,
      "outputs": []
    },
    {
      "cell_type": "code",
      "source": [
        "# analogue to DataBase contaning employess images\n",
        "\n",
        "base_imgs = [train_imgs[train_labels.index('Subject1')],\n",
        "            train_imgs[train_labels.index('Subject2')],\n",
        "            train_imgs[train_labels.index('Subject3')]]"
      ],
      "metadata": {
        "id": "j3QdVjBNgMpm",
        "execution": {
          "iopub.status.busy": "2021-05-30T14:39:49.313813Z",
          "iopub.execute_input": "2021-05-30T14:39:49.314136Z",
          "iopub.status.idle": "2021-05-30T14:39:49.319347Z",
          "shell.execute_reply.started": "2021-05-30T14:39:49.314108Z",
          "shell.execute_reply": "2021-05-30T14:39:49.318179Z"
        },
        "trusted": true
      },
      "execution_count": null,
      "outputs": []
    },
    {
      "cell_type": "markdown",
      "source": [
        "Lets check for our 1st random image"
      ],
      "metadata": {
        "id": "ltO1B8eziCYP"
      }
    },
    {
      "cell_type": "code",
      "source": [
        "plt.figure(figsize=(20, 17))\n",
        "\n",
        "plt.subplot(1, 4, 1)\n",
        "plt.title('UNKOWN')\n",
        "plt.imshow(rand_imgs[0])\n",
        "plt.xlabel(f\"Identified as : {subjects[np.argmin(distances[0])]}\")\n",
        "plt.xticks([]); plt.yticks([])\n",
        "\n",
        "plt.subplot(1, 4, 2)\n",
        "plt.title('SUBJECT1')\n",
        "plt.imshow(base_imgs[0])\n",
        "plt.xlabel(f\"Distance : {distances[0][0]}\")\n",
        "plt.xticks([]); plt.yticks([])\n",
        "\n",
        "plt.subplot(1, 4, 3)\n",
        "plt.title('SUBJECT2')\n",
        "plt.imshow(base_imgs[1])\n",
        "plt.xlabel(f\"Distance : {distances[0][1]}\")\n",
        "plt.xticks([]); plt.yticks([])\n",
        "\n",
        "plt.subplot(1, 4, 4)\n",
        "plt.title('SUBJECT3')\n",
        "plt.imshow(base_imgs[2])\n",
        "plt.xlabel(f\"Distance : {distances[0][2]}\")\n",
        "plt.xticks([]); plt.yticks([])\n",
        "\n",
        "\n",
        "\n",
        "plt.show();"
      ],
      "metadata": {
        "id": "2kfZS3kweX3L",
        "execution": {
          "iopub.status.busy": "2021-05-30T14:39:58.298764Z",
          "iopub.execute_input": "2021-05-30T14:39:58.299077Z",
          "iopub.status.idle": "2021-05-30T14:39:58.656526Z",
          "shell.execute_reply.started": "2021-05-30T14:39:58.299049Z",
          "shell.execute_reply": "2021-05-30T14:39:58.655514Z"
        },
        "trusted": true
      },
      "execution_count": null,
      "outputs": []
    },
    {
      "cell_type": "markdown",
      "source": [
        "Lets check for our 2nd random image"
      ],
      "metadata": {
        "id": "eM2_6wjGiCYQ"
      }
    },
    {
      "cell_type": "code",
      "source": [
        "plt.figure(figsize=(20, 17))\n",
        "\n",
        "plt.subplot(1, 4, 1)\n",
        "plt.title('UNKOWN')\n",
        "plt.imshow(rand_imgs[1])\n",
        "plt.xlabel(f\"Identified as : {subjects[np.argmin(distances[1])]}\")\n",
        "plt.xticks([]); plt.yticks([])\n",
        "\n",
        "plt.subplot(1, 4, 2)\n",
        "plt.title('SUBJECT1')\n",
        "plt.imshow(base_imgs[0])\n",
        "plt.xlabel(f\"Distance : {distances[1][0]}\")\n",
        "plt.xticks([]); plt.yticks([])\n",
        "\n",
        "plt.subplot(1, 4, 3)\n",
        "plt.title('SUBJECT2')\n",
        "plt.imshow(base_imgs[1])\n",
        "plt.xlabel(f\"Distance : {distances[1][1]}\")\n",
        "plt.xticks([]); plt.yticks([])\n",
        "\n",
        "plt.subplot(1, 4, 4)\n",
        "plt.title('SUBJECT3')\n",
        "plt.imshow(base_imgs[2])\n",
        "plt.xlabel(f\"Distance : {distances[1][2]}\")\n",
        "plt.xticks([]); plt.yticks([])\n",
        "\n",
        "\n",
        "\n",
        "plt.show();"
      ],
      "metadata": {
        "id": "75zOtKTHfgoU",
        "execution": {
          "iopub.status.busy": "2021-05-30T14:40:04.433147Z",
          "iopub.execute_input": "2021-05-30T14:40:04.433457Z",
          "iopub.status.idle": "2021-05-30T14:40:05.049995Z",
          "shell.execute_reply.started": "2021-05-30T14:40:04.433422Z",
          "shell.execute_reply": "2021-05-30T14:40:05.049124Z"
        },
        "trusted": true
      },
      "execution_count": null,
      "outputs": []
    },
    {
      "cell_type": "markdown",
      "source": [
        "Lets check for our 3rd random image"
      ],
      "metadata": {
        "id": "QwRn_hLiiCYQ"
      }
    },
    {
      "cell_type": "code",
      "source": [
        "plt.figure(figsize=(20, 17))\n",
        "\n",
        "plt.subplot(1, 4, 1)\n",
        "plt.title('UNKOWN')\n",
        "plt.imshow(rand_imgs[2])\n",
        "plt.xlabel(f\"Identified as : {subjects[np.argmin(distances[2])]}\")\n",
        "plt.xticks([]); plt.yticks([])\n",
        "\n",
        "plt.subplot(1, 4, 2)\n",
        "plt.title('SUBJECT1')\n",
        "plt.imshow(base_imgs[0])\n",
        "plt.xlabel(f\"Distance : {distances[2][0]}\")\n",
        "plt.xticks([]); plt.yticks([])\n",
        "\n",
        "plt.subplot(1, 4, 3)\n",
        "plt.title('SUBJECT2')\n",
        "plt.imshow(base_imgs[1])\n",
        "plt.xlabel(f\"Distance : {distances[2][1]}\")\n",
        "plt.xticks([]); plt.yticks([])\n",
        "\n",
        "plt.subplot(1, 4, 4)\n",
        "plt.title('SUBJECT3')\n",
        "plt.imshow(base_imgs[2])\n",
        "plt.xlabel(f\"Distance : {distances[2][2]}\")\n",
        "plt.xticks([]); plt.yticks([])\n",
        "\n",
        "\n",
        "\n",
        "plt.show();"
      ],
      "metadata": {
        "id": "cSywJZIBh-NY",
        "execution": {
          "iopub.status.busy": "2021-05-30T14:40:11.483011Z",
          "iopub.execute_input": "2021-05-30T14:40:11.483323Z",
          "iopub.status.idle": "2021-05-30T14:40:11.85284Z",
          "shell.execute_reply.started": "2021-05-30T14:40:11.483294Z",
          "shell.execute_reply": "2021-05-30T14:40:11.851896Z"
        },
        "trusted": true
      },
      "execution_count": null,
      "outputs": []
    },
    {
      "cell_type": "markdown",
      "source": [
        "So, we saw that the randomly choosen images were correctly identified"
      ],
      "metadata": {
        "id": "sNBC2lJ2iTlw"
      }
    },
    {
      "cell_type": "markdown",
      "source": [
        "# Points to Remember !!!\n",
        "<img src=\"https://cdn1.vectorstock.com/i/thumb-large/95/50/pointing-to-forehead-emoticon-vector-27559550.jpg\"/>\n",
        "\n",
        "\n",
        "<ul>\n",
        "<li>Data specific compression</li>\n",
        "<li>Unsupervised</li>\n",
        "<li>Lossy in nature</li>\n",
        "</ul>\n"
      ],
      "metadata": {
        "id": "A6NkEmewidzW"
      }
    },
    {
      "cell_type": "code",
      "source": [],
      "metadata": {
        "id": "wA2OshJhiCYQ"
      },
      "execution_count": null,
      "outputs": []
    }
  ]
}